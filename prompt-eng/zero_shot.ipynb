{
 "cells": [
  {
   "cell_type": "markdown",
   "metadata": {},
   "source": [
    "\n",
    "\n"
   ]
  },
  {
   "cell_type": "markdown",
   "metadata": {},
   "source": [
    "# Zero-Shot Prompting\n",
    "\n",
    "Zero-shot prompting refers to a technique in prompt engineering where you provide a model with a task without any prior examples. The model is expected to understand and generate a response or complete the task purely based on the given instruction.\n",
    "\n",
    "In other words, the model is given \"zero\" prior training examples or demonstrations in the prompt and relies on its pre-trained knowledge to infer what is needed.\n",
    "\n",
    "## References:\n",
    "* [Wei et al. (2022)](https://arxiv.org/pdf/2109.01652.pdf): demonstrate how instruction tuning improves zero-shot learning "
   ]
  },
  {
   "cell_type": "markdown",
   "metadata": {},
   "source": [
    "## Running this code on MyBind.org\n",
    "\n",
    "Note: remember that you will need to **adjust CONFIG** with **proper URL and API_KEY**!\n",
    "\n",
    "[![Binder](https://mybinder.org/badge_logo.svg)](https://mybinder.org/v2/gh/GenILab-FAU/prompt-eng/HEAD?urlpath=%2Fdoc%2Ftree%2Fprompt-eng%2Fzero_shot.ipynb)\n",
    "\n"
   ]
  },
  {
   "cell_type": "code",
   "execution_count": 4,
   "metadata": {},
   "outputs": [
    {
     "name": "stdout",
     "output_type": "stream",
     "text": [
      "{'model': 'qwen2', 'messages': [{'role': 'user', 'content': 'I have a monthly income of $7000, expenses of $4000, and want to invest wisely for retirement. What should I do?'}]}\n",
      "To create an effective investment strategy for retirement with your current financial situation, you can follow these steps:\n",
      "\n",
      "1. **Increase Savings**: If possible, increase the amount allocated towards savings before investing. Consider setting up a separate account specifically designated for retirement savings (e.g., 401(k), IRA).\n",
      "\n",
      "2. **Reduce Expenses**: Look into reducing unnecessary expenses to free more funds for both saving and investment purposes.\n",
      "\n",
      "3. **Emergency Fund**: Before investing heavily in stocks, establish an emergency fund that covers at least three months' worth of living expenses.\n",
      "\n",
      "4. **Investment Strategy**:\n",
      "   - **Diversification**: Spread your investments across various asset classes (stocks, bonds, real estate) to mitigate risk.\n",
      "   - **Age-Based Allocation**: As a general rule, younger investors can tolerate more stock exposure due to their longer investment horizon compared to retirees or those closer to retirement age. Your risk tolerance should decrease as you approach retirement.\n",
      "\n",
      "5. **Retirement Accounts**:\n",
      "   - **401(k)**: If your employer offers a 401(k), contribute enough to receive any matching funds, as these are essentially free money.\n",
      "   - **IRAs**: Consider contributing to traditional or Roth IRAs based on your tax situation and future needs.\n",
      "\n",
      "6. **Retirement Account Utilization**:\n",
      "    - **Roth IRA**: Useful if you expect higher income taxes in retirement (grows tax-free).\n",
      "    - **Traditional IRA**: Suitable if you anticipate being in a lower tax bracket at retirement time (taxes deferred until withdrawal).\n",
      "\n",
      "7. **Regular Reviews**: Regularly review and rebalance your portfolio to ensure it aligns with your financial goals, risk tolerance, and investment horizon.\n",
      "\n",
      "8. **Retirement Age Planning**:\n",
      "    - Estimate the retirement age that suits you based on current lifestyle needs versus your projected income.\n",
      "    - Consider factors like Social Security benefits, pensions (if applicable), and potential part-time or freelance work post-retirement to inform savings and investment strategies.\n",
      "\n",
      "9. **Professional Advice**: Consulting with a financial advisor can provide personalized advice tailored to your specific situation and goals.\n",
      "\n",
      "10. **Continuous Learning**: Stay informed about financial markets, economic trends, and changes in tax laws that might affect your retirement planning.\n",
      "\n",
      "By following these steps, you will build a comprehensive plan for managing your finances wisely while ensuring you are on track towards achieving your retirement goals.\n",
      "Time taken: 10.725s\n"
     ]
    }
   ],
   "source": [
    "# Install the requests package\n",
    "#%pip install requests\n",
    "\n",
    "from _pipeline import create_payload, model_req\n",
    "\n",
    "# (1) Change the Simulated inbounding message\n",
    "# Note: this is the message coming from the interface.\n",
    "MESSAGE = \"I have a monthly income of $7000, expenses of $4000, and want to invest wisely for retirement. What should I do?\"\n",
    "\n",
    "# (2) Adjust the Prompt Engineering Technique to be applied\n",
    "PROMPT = MESSAGE \n",
    "\n",
    "# (3) Configure your payload (optional)\n",
    "# Documentation: https://github.com/ollama/ollama/blob/main/docs/api.md\n",
    "payload = create_payload(target=\"open-webui\",\n",
    "                         model=\"qwen2\", \n",
    "                         prompt=PROMPT, \n",
    "                         temperature=0.7, \n",
    "                         num_ctx=100, \n",
    "                         num_predict=100)\n",
    "\n",
    "### YOU DONT NEED TO CONFIGURE ANYTHING ELSE FROM THIS POINT\n",
    "# Send out to the model\n",
    "time, response = model_req(payload=payload)\n",
    "print(response)\n",
    "if time: print(f'Time taken: {time}s')\n"
   ]
  },
  {
   "cell_type": "markdown",
   "metadata": {},
   "source": [
    "---\n",
    "\n",
    "## How to improve it?\n",
    "\n",
    "* **Use Clear and Concise Instructions**: Be specific about the task and desired format.\n",
    "    * Bad Prompt: “Summarize this.”\n",
    "    * Good Prompt: “Summarize this paragraph in one sentence.”\n",
    "* **Add Context**: Providing background can help the model interpret ambiguous prompts better.\n",
    "* **Specify Output Format**: If a particular structure is needed, describe it in the instruction."
   ]
  }
 ],
 "metadata": {
  "kernelspec": {
   "display_name": "Python 3",
   "language": "python",
   "name": "python3"
  },
  "language_info": {
   "codemirror_mode": {
    "name": "ipython",
    "version": 3
   },
   "file_extension": ".py",
   "mimetype": "text/x-python",
   "name": "python",
   "nbconvert_exporter": "python",
   "pygments_lexer": "ipython3",
   "version": "3.11.9"
  }
 },
 "nbformat": 4,
 "nbformat_minor": 2
}
