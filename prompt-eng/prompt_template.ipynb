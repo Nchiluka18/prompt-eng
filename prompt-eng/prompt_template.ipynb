{
 "cells": [
  {
   "cell_type": "markdown",
   "metadata": {},
   "source": [
    "\n",
    "\n"
   ]
  },
  {
   "cell_type": "markdown",
   "metadata": {},
   "source": [
    "# Prompt Template Prompting\n",
    "\n",
    "Prompt Template Prompting refers to a technique where predefined templates are used to construct effective prompts that guide large language models (LLMs) to generate responses tailored to specific use cases. The templates typically contain static text combined with dynamic input variables, allowing for consistent, reusable, and customizable prompts.\n",
    "\n",
    "Prompt templates are widely used across various domains, such as:\n",
    "* **Question Generation**: Templates can generate quiz questions by filling in variables related to topics.\n",
    "* **Text Summarization**: Static instructions combined with variable documents or inputs allow flexible summarization.\n",
    "* **Coding Assistance**: Dynamic prompts help LLMs generate code snippets for different programming tasks.\n",
    "\n",
    "## References:\n",
    "\n",
    "* (OpenAI Documentation for Prompt Engineering)[https://platform.openai.com/docs/guides/prompt-engineering]"
   ]
  },
  {
   "cell_type": "markdown",
   "metadata": {},
   "source": [
    "## Running this code on MyBind.org\n",
    "\n",
    "Note: remember that you will need to **adjust CONFIG** with **proper URL and API_KEY**!\n",
    "\n",
    "[![Binder](https://mybinder.org/badge_logo.svg)](https://mybinder.org/v2/gh/GenILab-FAU/prompt-eng/HEAD?urlpath=%2Fdoc%2Ftree%2Fprompt-eng%2Fprompt_template.ipynb)\n"
   ]
  },
  {
   "cell_type": "code",
   "execution_count": 1,
   "metadata": {},
   "outputs": [
    {
     "name": "stdout",
     "output_type": "stream",
     "text": [
      "{'model': 'qwen2', 'messages': [{'role': 'user', 'content': 'Act like you are a personal finance advisor. A client is asking the following question:\\nMy monthly income is $5000, and my expenses are $3200. I want to save $10,000 in 12 months. What should I do?\\nProvide personalized financial advice. Focus on budgeting, savings, and investment strategies. Do not explain the methodology, just provide the answer.'}]}\n",
      "To achieve your goal of saving $10,000 in 12 months with a monthly income of $5,000 and expenses of $3,200, you should follow these steps:\n",
      "\n",
      "1. Increase Income: Consider ways to increase your income, such as taking on freelance work, selling unused items, or finding part-time jobs.\n",
      "\n",
      "2. Reduce Expenses:\n",
      "   - Review your spending habits and identify non-essential expenditures to cut.\n",
      "   - Negotiate with service providers for lower rates (e.g., internet, phone plans).\n",
      "   - Consider cooking meals at home instead of dining out.\n",
      "   - Use public transportation or carpooling to save on commuting costs.\n",
      "\n",
      "3. Allocate Savings:\n",
      "   - Aim to save $100 per day ($3,428.57 monthly) by reducing expenses and increasing income.\n",
      "   - Set up an automatic transfer of funds from your checking account to a savings account as soon as you receive your paycheck.\n",
      "   - Open a high-yield savings account or consider investing in low-risk mutual funds with the goal of earning interest.\n",
      "\n",
      "4. Create an Emergency Fund:\n",
      "   - Prioritize building an emergency fund equivalent to 3-6 months' worth of expenses ($9,600-$19,200) before focusing solely on your $10,000 savings goal.\n",
      "\n",
      "5. Regularly Review and Adjust Your Budget:\n",
      "   - Set up regular reviews (monthly or quarterly) to track progress towards your financial goals.\n",
      "   - Adjust spending categories as needed based on financial performance.\n",
      "\n",
      "6. Consider Investment Opportunities:\n",
      "   - Explore low-risk investments like bonds, ETFs, or balanced mutual funds that can provide better returns than a traditional savings account while maintaining a level of security for the first $10,000 goal.\n",
      "\n",
      "7. Consult with Financial Advisors (if available):\n",
      "   - Engage financial advisors to help tailor your investment strategies and ensure you're on track to meet your goals.\n",
      "\n",
      "By implementing these strategies diligently, you should be able to save $10,000 over 12 months while managing your budget effectively. Remember that consistency and discipline are crucial in achieving any financial goal.\n",
      "Time taken: 10.677s\n"
     ]
    }
   ],
   "source": [
    "##\n",
    "## PROMPT TEMPLATE PROMPTING\n",
    "##\n",
    "\n",
    "from _pipeline import create_payload, model_req\n",
    "\n",
    "# (1) Chage the Simulated inbounding message\n",
    "# Note: this is the message coming from the interface.\n",
    "MESSAGE = \"My monthly income is $5000, and my expenses are $3200. I want to save $10,000 in 12 months. What should I do?\"\n",
    "\n",
    "# (2) Adjust the Prompt Engineering Technique to be applied\n",
    "TEMPLATE_BEFORE = \"Act like you are a personal finance advisor. A client is asking the following question:\"\n",
    "TEMPLATE_AFTER = \"Provide personalized financial advice. Focus on budgeting, savings, and investment strategies. Do not explain the methodology, just provide the answer.\"\n",
    "PROMPT = TEMPLATE_BEFORE + '\\n' + MESSAGE + '\\n' + TEMPLATE_AFTER\n",
    "\n",
    "# (3) Configure your payload (optional)\n",
    "# Documentation: https://github.com/ollama/ollama/blob/main/docs/api.md\n",
    "payload = create_payload(target=\"open-webui\",\n",
    "                         model=\"qwen2\", \n",
    "                         prompt=PROMPT, \n",
    "                         temperature=0.8, \n",
    "                         num_ctx=100, \n",
    "                         num_predict=100)\n",
    "\n",
    "### YOU DONT NEED TO CONFIGURE ANYTHING ELSE FROM THIS POINT\n",
    "# Send out to the model\n",
    "time, response = model_req(payload=payload)\n",
    "print(response)\n",
    "if time: print(f'Time taken: {time}s')"
   ]
  }
 ],
 "metadata": {
  "kernelspec": {
   "display_name": "Python 3",
   "language": "python",
   "name": "python3"
  },
  "language_info": {
   "codemirror_mode": {
    "name": "ipython",
    "version": 3
   },
   "file_extension": ".py",
   "mimetype": "text/x-python",
   "name": "python",
   "nbconvert_exporter": "python",
   "pygments_lexer": "ipython3",
   "version": "3.11.9"
  }
 },
 "nbformat": 4,
 "nbformat_minor": 2
}
