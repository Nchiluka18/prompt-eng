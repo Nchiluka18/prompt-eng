{
 "cells": [
  {
   "cell_type": "markdown",
   "metadata": {},
   "source": [
    "\n",
    "\n"
   ]
  },
  {
   "cell_type": "markdown",
   "metadata": {},
   "source": [
    "# Few-Shots Prompting\n",
    "\n",
    "Few-shot prompting can be used as a technique to enable in-context learning where we provide demonstrations in the prompt to steer the model to better performance. The demonstrations serve as conditioning for subsequent examples where we would like the model to generate a response.\n",
    "\n",
    "## References:\n",
    "* [Touvron et al. 2023](https://arxiv.org/pdf/2302.13971.pdf): present few shot properties  when models were scaled to a sufficient size\n",
    "* [Kaplan et al., 2020](https://arxiv.org/abs/2001.08361)\n",
    "* [Brown et al. 2020](https://arxiv.org/abs/2005.14165)\n"
   ]
  },
  {
   "cell_type": "markdown",
   "metadata": {},
   "source": [
    "## Running this code on MyBind.org\n",
    "\n",
    "Note: remember that you will need to **adjust CONFIG** with **proper URL and API_KEY**!\n",
    "\n",
    "[![Binder](https://mybinder.org/badge_logo.svg)](https://mybinder.org/v2/gh/GenILab-FAU/prompt-eng/HEAD?urlpath=%2Fdoc%2Ftree%2Fprompt-eng%2Ffew_shots.ipynb)\n",
    "\n"
   ]
  },
  {
   "cell_type": "code",
   "execution_count": 1,
   "metadata": {},
   "outputs": [
    {
     "name": "stdout",
     "output_type": "stream",
     "text": [
      "Based on your current financial situation with a monthly income of $7000 and expenses of $4000, you are currently able to save $3000 per month ($7000 - $4000). \n",
      "\n",
      "To invest wisely for retirement, I recommend the following steps:\n",
      "\n",
      "1. **Emergency Fund**: Before investing in other assets, it's essential to build an emergency fund equivalent to 3-6 months' worth of living expenses. In your case, since you're already saving a substantial amount each month ($3000), this can serve as part of your emergency fund or be used to cover unforeseen expenses.\n",
      "\n",
      "2. **Retirement Savings**: Open a retirement account such as an IRA (Individual Retirement Account) or 401(k). For a young professional with your income level, contributing the maximum allowed amount annually ($6000 per year in a traditional IRA or $28,000 per year in a 401(k)) could provide significant tax advantages and maximize long-term growth.\n",
      "\n",
      "3. **Diversify Investments**: Spread your investments across various asset classes like stocks (equity), bonds (fixed income), and cash equivalents to reduce risk while maximizing potential returns. \n",
      "\n",
      "4. **Regular Rebalancing**: Periodically review and rebalance your investment portfolio to ensure it still aligns with your financial goals, risk tolerance, and market conditions.\n",
      "\n",
      "5. **Seek Professional Advice**: Consider consulting a financial advisor who can provide personalized advice based on your specific circumstances, including tax implications, future earning potential, and retirement needs.\n",
      "\n",
      "6. **Consider High Growth Potential**: Since you are aiming for retirement in the long-term horizon (typically over 20 years), investments with higher growth potential like stocks might be suitable for your investment mix.\n",
      "\n",
      "7. **Regularly Review Your Budget**: As your income increases or expenses change, revisit your budget and adjust your savings and investment strategy accordingly to ensure you're on track to meet your retirement goals.\n",
      "\n",
      "By following these recommendations, you can invest wisely while securing a comfortable future during retirement.\n",
      "Time taken: 24.028s\n"
     ]
    }
   ],
   "source": [
    "from _pipeline import create_payload, model_req\n",
    "\n",
    "# (1) Change the Simulated inbounding message\n",
    "# Note: this is the message coming from the interface.\n",
    "MESSAGE = \"I have a monthly income of $7000, expenses of $4000, and want to invest wisely for retirement. What should I do?\"\n",
    "\n",
    "# (2) Adjust the Prompt Engineering Technique to be applied\n",
    "FEW_SHOT = \"You are a financial planner. If a client says 'I earn $5000 and spend $3000, how much can I save?', you answer '$2000'. If a client asks 'I want to save $10000 in a year with $4000 income and $2500 expenses', you answer 'Save $1250 per month'. Client asked; provide a direct financial recommendation: \"\n",
    "PROMPT = FEW_SHOT + '\\n' + MESSAGE \n",
    "\n",
    "# (3) Configure your payload (optional)\n",
    "# Documentation: https://github.com/ollama/ollama/blob/main/docs/api.md\n",
    "payload = create_payload(target=\"open-webui\",\n",
    "                         model=\"qwen2\", \n",
    "                         prompt=PROMPT, \n",
    "                         temperature=0.7, \n",
    "                         num_ctx=100, \n",
    "                         num_predict=100)\n",
    "\n",
    "### YOU DONT NEED TO CONFIGURE ANYTHING ELSE FROM THIS POINT\n",
    "# Send out to the model\n",
    "time, response = model_req(payload=payload)\n",
    "print(response)\n",
    "if time: print(f'Time taken: {time}s')\n"
   ]
  },
  {
   "cell_type": "markdown",
   "metadata": {},
   "source": [
    "## How to improve it?\n",
    "\n",
    "Following the findings from [Min et al. (2022)](https://arxiv.org/abs/2202.12837), here are a few more tips about demonstrations/exemplars when doing few-shot:\n",
    "\n",
    "* \"the label space and the distribution of the input text specified by the demonstrations are both important (regardless of whether the labels are correct for individual inputs)\"\n",
    "* the format you use also plays a key role in performance, even if you just use random labels, this is much better than no labels at all.\n",
    "* additional results show that selecting random labels from a true distribution of labels (instead of a uniform distribution) also helps."
   ]
  }
 ],
 "metadata": {
  "kernelspec": {
   "display_name": "Python 3",
   "language": "python",
   "name": "python3"
  },
  "language_info": {
   "codemirror_mode": {
    "name": "ipython",
    "version": 3
   },
   "file_extension": ".py",
   "mimetype": "text/x-python",
   "name": "python",
   "nbconvert_exporter": "python",
   "pygments_lexer": "ipython3",
   "version": "3.11.9"
  }
 },
 "nbformat": 4,
 "nbformat_minor": 2
}
